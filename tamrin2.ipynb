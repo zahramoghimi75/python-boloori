{
 "cells": [
  {
   "cell_type": "code",
   "execution_count": 10,
   "id": "bbd4e3ec",
   "metadata": {},
   "outputs": [
    {
     "name": "stdout",
     "output_type": "stream",
     "text": [
      "daraje hararat farvardin : 20\n",
      "daraje hararat ordibehesht : 18\n",
      "daraje hararat khordad : 18\n",
      "daraje hararat tir : 22\n",
      "daraje hararat mordad : 23\n",
      "daraje hararat shahrivar : 23\n",
      "daraje hararat mehr : 1\n",
      "daraje hararat aban : -1\n",
      "daraje hararat azar : 1\n",
      "daraje hararat dey : 3\n",
      "daraje hararat bahman : 7\n",
      "daraje hararat esfand : 9\n"
     ]
    }
   ],
   "source": [
    "#bakhsh avval\n",
    "import random\n",
    "#taerif dictisonary month\n",
    "temperature_ranges = {\n",
    "    \"farvardin\": (18, 30),\n",
    "    \"ordibehesht\": (18, 30),\n",
    "    \"khordad\": (18, 30),\n",
    "    \"tir\": (18, 30),\n",
    "    \"mordad\": (18, 30),\n",
    "    \"shahrivar\": (18, 30),\n",
    "    \"mehr\": (-5, 10),\n",
    "    \"aban\": (-5, 10),\n",
    "    \"azar\": (-5, 10),\n",
    "    \"dey\": (-5, 10),\n",
    "    \"bahman\": (-5, 10),\n",
    "    \"esfand\": (-5, 10)\n",
    "}\n",
    "#month:key #temp:daragehararat\n",
    "temperatures = {month: int(random.uniform(temp_min, temp_max)) for month, (temp_min, temp_max) in temperature_ranges.items()}\n",
    "#print key:value +string daraje harart\n",
    "for month, temp in temperatures.items():\n",
    "    print(f\"daraje hararat {month} : {temp}\")"
   ]
  },
  {
   "cell_type": "code",
   "execution_count": 34,
   "id": "c222acfe",
   "metadata": {},
   "outputs": [
    {
     "name": "stdout",
     "output_type": "stream",
     "text": [
      "darajeh harart farvardin : 19.56\n",
      "darajeh harart ordibehesht : 26.68\n",
      "darajeh harart khordad : 25.32\n",
      "darajeh harart tir : 19.55\n",
      "darajeh harart mordad : 19.30\n",
      "darajeh harart shahrivar : 28.90\n",
      "darajeh harart mehr : -1.13\n",
      "darajeh harart aban : 4.62\n",
      "darajeh harart azar : -4.34\n",
      "darajeh harart dey : -2.25\n",
      "darajeh harart bahman : -4.72\n",
      "darajeh harart esfand : 2.42\n"
     ]
    }
   ],
   "source": [
    "#bakhsh dovom \n",
    "import random\n",
    "\n",
    "# taein daraje harart\n",
    "temperature_ranges = {\n",
    "     \"farvardin\": (18, 30),\n",
    "    \"ordibehesht\": (18, 30),\n",
    "    \"khordad\": (18, 30),\n",
    "    \"tir\": (18, 30),\n",
    "    \"mordad\": (18, 30),\n",
    "    \"shahrivar\": (18, 30),\n",
    "    \"mehr\": (-5, 10),\n",
    "    \"aban\": (-5, 10),\n",
    "    \"azar\": (-5, 10),\n",
    "    \"dey\": (-5, 10),\n",
    "    \"bahman\": (-5, 10),\n",
    "    \"esfand\": (-5, 10)\n",
    "}\n",
    "\n",
    "# sakht dictionary darajeh harart\n",
    "temperatures = {month: random.uniform(min_temp, max_temp) for month, (min_temp, max_temp) in temperature_ranges.items()}\n",
    "\n",
    "# taghirat\n",
    "temperatures = {month: temp + 2.5 if temp > 20 and temp < 25 else temp for month, temp in temperatures.items()}\n",
    "temperatures = {month: temp - 1.25 if temp >= -5 and temp <= 10 else temp for month, temp in temperatures.items()}\n",
    "\n",
    "# print\n",
    "for month, temp in temperatures.items():\n",
    "    print(f\"darajeh harart {month} : {temp:.2f}\")\n",
    "\n",
    "    "
   ]
  },
  {
   "cell_type": "code",
   "execution_count": 37,
   "id": "bf07239e",
   "metadata": {},
   "outputs": [
    {
     "name": "stdout",
     "output_type": "stream",
     "text": [
      "215 ns ± 8.07 ns per loop (mean ± std. dev. of 7 runs, 1,000,000 loops each)\n"
     ]
    }
   ],
   "source": [
    "%%timeit\n",
    "def update_temperatures_for_loop():\n",
    "    temperatures = {}\n",
    "    for month, (min_temp, max_temp) in temperature_ranges.items():\n",
    "        temp = random.uniform(min_temp, max_temp)\n",
    "        if 20 < temp < 25:\n",
    "            temp += 2.5\n",
    "        if 5 <= temp <= 10:\n",
    "            temp -= 1.25\n",
    "        temperatures[month] = temp\n",
    "    return temperatures\n",
    "\n"
   ]
  },
  {
   "cell_type": "code",
   "execution_count": 38,
   "id": "feeff08b",
   "metadata": {},
   "outputs": [
    {
     "name": "stdout",
     "output_type": "stream",
     "text": [
      "230 ns ± 16.5 ns per loop (mean ± std. dev. of 7 runs, 1,000,000 loops each)\n"
     ]
    }
   ],
   "source": [
    "%%timeit\n",
    "def update_temperatures_dictionary_comprehension():\n",
    "    temperatures = {month: random.uniform(min_temp, max_temp) for month, (min_temp, max_temp) in temperature_ranges.items()}\n",
    "    temperatures = {month: temp + 2.5 if 20 < temp < 25 else temp for month, temp in temperatures.items()}\n",
    "    temperatures = {month: temp - 1.25 if 5 <= temp <= 10 else temp for month, temp in temperatures.items()}\n",
    "    return temperatures"
   ]
  },
  {
   "cell_type": "code",
   "execution_count": 39,
   "id": "74b1770a",
   "metadata": {},
   "outputs": [
    {
     "name": "stdout",
     "output_type": "stream",
     "text": [
      "232 ns ± 5.07 ns per loop (mean ± std. dev. of 7 runs, 1,000,000 loops each)\n"
     ]
    }
   ],
   "source": [
    "%%timeit\n",
    "def update_temperatures_list_comprehension():\n",
    "    temperatures = [random.uniform(min_temp, max_temp) for min_temp, max_temp in temperature_ranges.values()]\n",
    "    temperatures = [temp + 2.5 if 20 < temp < 25 else temp for temp in temperatures]\n",
    "    temperatures = [temp - 1.25 if 5 <= temp <= 10 else temp for temp in temperatures]\n",
    "    return temperatures"
   ]
  },
  {
   "cell_type": "code",
   "execution_count": 41,
   "id": "5a5458c3",
   "metadata": {},
   "outputs": [
    {
     "name": "stdout",
     "output_type": "stream",
     "text": [
      "daraje farvardin : 2.17\n",
      "daraje ordibehesht : 2.48\n",
      "daraje khordad : 2.25\n",
      "daraje tir : 2.43\n",
      "daraje mordad : 2.45\n",
      "daraje shahrivar : 2.31\n",
      "daraje mehr : 0.93\n",
      "daraje aban : 0.79\n",
      "daraje azar : 0.87\n",
      "daraje dey : 1.09\n",
      "daraje bahman : 1.27\n",
      "daraje esfand : 0.94\n"
     ]
    }
   ],
   "source": [
    "import random\n",
    "\n",
    "temperature_ranges = {\n",
    "     \"farvardin\": (18, 30),\n",
    "    \"ordibehesht\": (18, 30),\n",
    "    \"khordad\": (18, 30),\n",
    "    \"tir\": (18, 30),\n",
    "    \"mordad\": (18, 30),\n",
    "    \"shahrivar\": (18, 30),\n",
    "    \"mehr\": (-5, 10),\n",
    "    \"aban\": (-5, 10),\n",
    "    \"azar\": (-5, 10),\n",
    "    \"dey\": (-5, 10),\n",
    "    \"bahman\": (-5, 10),\n",
    "    \"esfand\": (-5, 10)\n",
    "}\n",
    "\n",
    "# tabee dama dictionary comprehension\n",
    "temperatures = {month: random.uniform(min_temp, max_temp) for month, (min_temp, max_temp) in temperature_ranges.items()}\n",
    "temperatures = {month: temp + 2.5 if 20 < temp < 25 else temp for month, temp in temperatures.items()}\n",
    "temperatures = {month: temp - 1.25 if 5 <= temp <= 10 else temp for month, temp in temperatures.items()}\n",
    "\n",
    "# map\n",
    "temperatures = list(map(lambda temp: temp * 0.05 + 1, temperatures.values()))\n",
    "\n",
    "# print\n",
    "for month, temp in zip(temperature_ranges.keys(), temperatures):\n",
    "    print(f\"daraje {month} : {temp:.2f}\")"
   ]
  },
  {
   "cell_type": "code",
   "execution_count": 57,
   "id": "4fba4f6a",
   "metadata": {},
   "outputs": [
    {
     "name": "stdout",
     "output_type": "stream",
     "text": [
      "[100, 225, 400, 625, 30, 35, 40, 45, 50, 55]\n"
     ]
    }
   ],
   "source": [
    "x = [ 10, 15, 20, 25, 30, 35, 40, 45, 50, 55]\n",
    "z = [item **2 if item < 30 else item for item in x]\n",
    "\n",
    "print(z)"
   ]
  },
  {
   "cell_type": "code",
   "execution_count": 65,
   "id": "351948fe",
   "metadata": {},
   "outputs": [
    {
     "data": {
      "text/plain": [
       "dict"
      ]
     },
     "execution_count": 65,
     "metadata": {},
     "output_type": "execute_result"
    }
   ],
   "source": [
    "x = {(1,5,6):0}\n",
    "type(x)\n"
   ]
  },
  {
   "cell_type": "code",
   "execution_count": 60,
   "id": "e6fb5cb5",
   "metadata": {},
   "outputs": [],
   "source": [
    "y = {(key):value for key(6), value in x.items()}"
   ]
  },
  {
   "cell_type": "code",
   "execution_count": 68,
   "id": "b501e7fb",
   "metadata": {},
   "outputs": [
    {
     "name": "stdout",
     "output_type": "stream",
     "text": [
      "{1: 0, 2: 0, 3: 0}\n"
     ]
    }
   ],
   "source": [
    "print(y)"
   ]
  },
  {
   "cell_type": "code",
   "execution_count": null,
   "id": "8f6c39d4",
   "metadata": {},
   "outputs": [],
   "source": []
  }
 ],
 "metadata": {
  "kernelspec": {
   "display_name": "Python 3 (ipykernel)",
   "language": "python",
   "name": "python3"
  },
  "language_info": {
   "codemirror_mode": {
    "name": "ipython",
    "version": 3
   },
   "file_extension": ".py",
   "mimetype": "text/x-python",
   "name": "python",
   "nbconvert_exporter": "python",
   "pygments_lexer": "ipython3",
   "version": "3.11.5"
  }
 },
 "nbformat": 4,
 "nbformat_minor": 5
}
